{
 "cells": [
  {
   "cell_type": "markdown",
   "id": "130f2814",
   "metadata": {},
   "source": [
    "# _EDA and Models for Abalone Dataset_\n",
    ">  _created by Spencer Perkins_\n",
    "\n",
    "Dataset: https://www.kaggle.com/datasets/rodolfomendes/abalone-dataset\n",
    "\n",
    "> This notebook is an exploration of the Abalone Dataset (available at the above link), and a few model experiments, one exploring regression for age prediction and the rest for classifying the dataset samples into 5 defined age classes.\n",
    "\n",
    "## Notebook Structure: \n",
    "> ### _EDA_\n",
    ">> 1. Introduction to dataset\n",
    "2. Data Cleaning\n",
    "3. Data Visualization\n",
    "\n",
    "> ### _Models_\n",
    ">> 1. Multiple-Linear Regression\n",
    "2. Logistic Regression\n",
    "3. Decision Tree\n",
    "4. Support Vector Machine\n",
    "5. KNN\n",
    "\n",
    "> ### _Conclusion_\n"
   ]
  },
  {
   "cell_type": "markdown",
   "id": "7e789967",
   "metadata": {},
   "source": [
    "# _EDA_ \n",
    "\n",
    "## 1. Introduction to Dataset\n",
    "\n",
    "> In this section we will take an initial look at the structure of the dataset. We will be looking for specific issues or aspects that we should consider in the _data cleaning_ section."
   ]
  },
  {
   "cell_type": "code",
   "execution_count": 1,
   "id": "6fc77e04",
   "metadata": {},
   "outputs": [],
   "source": [
    "# Packages for EDA\n",
    "import pandas as pd\n",
    "import matplotlib\n",
    "import matplotlib.pyplot as plt\n",
    "import seaborn as sns\n",
    "import numpy as np"
   ]
  },
  {
   "cell_type": "code",
   "execution_count": 2,
   "id": "bc104999",
   "metadata": {
    "scrolled": true
   },
   "outputs": [
    {
     "data": {
      "text/plain": [
       "(4177, 9)"
      ]
     },
     "execution_count": 2,
     "metadata": {},
     "output_type": "execute_result"
    }
   ],
   "source": [
    "# Define dataframe\n",
    "data = pd.read_csv('abalone.csv')\n",
    "data.shape"
   ]
  },
  {
   "cell_type": "code",
   "execution_count": 3,
   "id": "3e78db17",
   "metadata": {},
   "outputs": [
    {
     "name": "stdout",
     "output_type": "stream",
     "text": [
      "<class 'pandas.core.frame.DataFrame'>\n",
      "RangeIndex: 4177 entries, 0 to 4176\n",
      "Data columns (total 9 columns):\n",
      " #   Column          Non-Null Count  Dtype  \n",
      "---  ------          --------------  -----  \n",
      " 0   Sex             4177 non-null   object \n",
      " 1   Length          4177 non-null   float64\n",
      " 2   Diameter        4177 non-null   float64\n",
      " 3   Height          4177 non-null   float64\n",
      " 4   Whole weight    4177 non-null   float64\n",
      " 5   Shucked weight  4177 non-null   float64\n",
      " 6   Viscera weight  4177 non-null   float64\n",
      " 7   Shell weight    4177 non-null   float64\n",
      " 8   Rings           4177 non-null   int64  \n",
      "dtypes: float64(7), int64(1), object(1)\n",
      "memory usage: 293.8+ KB\n"
     ]
    }
   ],
   "source": [
    "data.info()"
   ]
  },
  {
   "cell_type": "code",
   "execution_count": 4,
   "id": "216177f8",
   "metadata": {
    "scrolled": false
   },
   "outputs": [
    {
     "data": {
      "text/html": [
       "<div>\n",
       "<style scoped>\n",
       "    .dataframe tbody tr th:only-of-type {\n",
       "        vertical-align: middle;\n",
       "    }\n",
       "\n",
       "    .dataframe tbody tr th {\n",
       "        vertical-align: top;\n",
       "    }\n",
       "\n",
       "    .dataframe thead th {\n",
       "        text-align: right;\n",
       "    }\n",
       "</style>\n",
       "<table border=\"1\" class=\"dataframe\">\n",
       "  <thead>\n",
       "    <tr style=\"text-align: right;\">\n",
       "      <th></th>\n",
       "      <th>Length</th>\n",
       "      <th>Diameter</th>\n",
       "      <th>Height</th>\n",
       "      <th>Whole weight</th>\n",
       "      <th>Shucked weight</th>\n",
       "      <th>Viscera weight</th>\n",
       "      <th>Shell weight</th>\n",
       "      <th>Rings</th>\n",
       "    </tr>\n",
       "  </thead>\n",
       "  <tbody>\n",
       "    <tr>\n",
       "      <th>count</th>\n",
       "      <td>4177.000000</td>\n",
       "      <td>4177.000000</td>\n",
       "      <td>4177.000000</td>\n",
       "      <td>4177.000000</td>\n",
       "      <td>4177.000000</td>\n",
       "      <td>4177.000000</td>\n",
       "      <td>4177.000000</td>\n",
       "      <td>4177.000000</td>\n",
       "    </tr>\n",
       "    <tr>\n",
       "      <th>mean</th>\n",
       "      <td>0.523992</td>\n",
       "      <td>0.407881</td>\n",
       "      <td>0.139516</td>\n",
       "      <td>0.828742</td>\n",
       "      <td>0.359367</td>\n",
       "      <td>0.180594</td>\n",
       "      <td>0.238831</td>\n",
       "      <td>9.933684</td>\n",
       "    </tr>\n",
       "    <tr>\n",
       "      <th>std</th>\n",
       "      <td>0.120093</td>\n",
       "      <td>0.099240</td>\n",
       "      <td>0.041827</td>\n",
       "      <td>0.490389</td>\n",
       "      <td>0.221963</td>\n",
       "      <td>0.109614</td>\n",
       "      <td>0.139203</td>\n",
       "      <td>3.224169</td>\n",
       "    </tr>\n",
       "    <tr>\n",
       "      <th>min</th>\n",
       "      <td>0.075000</td>\n",
       "      <td>0.055000</td>\n",
       "      <td>0.000000</td>\n",
       "      <td>0.002000</td>\n",
       "      <td>0.001000</td>\n",
       "      <td>0.000500</td>\n",
       "      <td>0.001500</td>\n",
       "      <td>1.000000</td>\n",
       "    </tr>\n",
       "    <tr>\n",
       "      <th>25%</th>\n",
       "      <td>0.450000</td>\n",
       "      <td>0.350000</td>\n",
       "      <td>0.115000</td>\n",
       "      <td>0.441500</td>\n",
       "      <td>0.186000</td>\n",
       "      <td>0.093500</td>\n",
       "      <td>0.130000</td>\n",
       "      <td>8.000000</td>\n",
       "    </tr>\n",
       "    <tr>\n",
       "      <th>50%</th>\n",
       "      <td>0.545000</td>\n",
       "      <td>0.425000</td>\n",
       "      <td>0.140000</td>\n",
       "      <td>0.799500</td>\n",
       "      <td>0.336000</td>\n",
       "      <td>0.171000</td>\n",
       "      <td>0.234000</td>\n",
       "      <td>9.000000</td>\n",
       "    </tr>\n",
       "    <tr>\n",
       "      <th>75%</th>\n",
       "      <td>0.615000</td>\n",
       "      <td>0.480000</td>\n",
       "      <td>0.165000</td>\n",
       "      <td>1.153000</td>\n",
       "      <td>0.502000</td>\n",
       "      <td>0.253000</td>\n",
       "      <td>0.329000</td>\n",
       "      <td>11.000000</td>\n",
       "    </tr>\n",
       "    <tr>\n",
       "      <th>max</th>\n",
       "      <td>0.815000</td>\n",
       "      <td>0.650000</td>\n",
       "      <td>1.130000</td>\n",
       "      <td>2.825500</td>\n",
       "      <td>1.488000</td>\n",
       "      <td>0.760000</td>\n",
       "      <td>1.005000</td>\n",
       "      <td>29.000000</td>\n",
       "    </tr>\n",
       "  </tbody>\n",
       "</table>\n",
       "</div>"
      ],
      "text/plain": [
       "            Length     Diameter       Height  Whole weight  Shucked weight  \\\n",
       "count  4177.000000  4177.000000  4177.000000   4177.000000     4177.000000   \n",
       "mean      0.523992     0.407881     0.139516      0.828742        0.359367   \n",
       "std       0.120093     0.099240     0.041827      0.490389        0.221963   \n",
       "min       0.075000     0.055000     0.000000      0.002000        0.001000   \n",
       "25%       0.450000     0.350000     0.115000      0.441500        0.186000   \n",
       "50%       0.545000     0.425000     0.140000      0.799500        0.336000   \n",
       "75%       0.615000     0.480000     0.165000      1.153000        0.502000   \n",
       "max       0.815000     0.650000     1.130000      2.825500        1.488000   \n",
       "\n",
       "       Viscera weight  Shell weight        Rings  \n",
       "count     4177.000000   4177.000000  4177.000000  \n",
       "mean         0.180594      0.238831     9.933684  \n",
       "std          0.109614      0.139203     3.224169  \n",
       "min          0.000500      0.001500     1.000000  \n",
       "25%          0.093500      0.130000     8.000000  \n",
       "50%          0.171000      0.234000     9.000000  \n",
       "75%          0.253000      0.329000    11.000000  \n",
       "max          0.760000      1.005000    29.000000  "
      ]
     },
     "execution_count": 4,
     "metadata": {},
     "output_type": "execute_result"
    }
   ],
   "source": [
    "# Descriptive statistics for the numeric values\n",
    "data.describe()"
   ]
  },
  {
   "cell_type": "markdown",
   "id": "28339d33",
   "metadata": {},
   "source": [
    "> This concludes the initial look at the dataset. Some ideas going forward: \n",
    ">> 1. The minimum value for 'Height' is 0, which should not be possible. \n",
    "2. It may be beneficial to have a numeric representation for 'Sex'. \n",
    "3. According to common practice for determining the age of abalones, we could create a class for age in years by adding 1.5 to the number of rings."
   ]
  },
  {
   "cell_type": "markdown",
   "id": "cb41578b",
   "metadata": {},
   "source": [
    "## 2. Data Cleaning\n",
    "\n",
    "> The dataset is complete in that there are no null values present for any of the features. In this section we will deal with the unlikely accurate recording of 0 for the 'Height' feature, add a numeric representation for the 'Sex' feature, add an 'Age' feature, and add an 'Age_class' feature for classification."
   ]
  },
  {
   "cell_type": "code",
   "execution_count": 5,
   "id": "ca048a24",
   "metadata": {
    "scrolled": true
   },
   "outputs": [
    {
     "data": {
      "text/html": [
       "<div>\n",
       "<style scoped>\n",
       "    .dataframe tbody tr th:only-of-type {\n",
       "        vertical-align: middle;\n",
       "    }\n",
       "\n",
       "    .dataframe tbody tr th {\n",
       "        vertical-align: top;\n",
       "    }\n",
       "\n",
       "    .dataframe thead th {\n",
       "        text-align: right;\n",
       "    }\n",
       "</style>\n",
       "<table border=\"1\" class=\"dataframe\">\n",
       "  <thead>\n",
       "    <tr style=\"text-align: right;\">\n",
       "      <th></th>\n",
       "      <th>Sex</th>\n",
       "      <th>Length</th>\n",
       "      <th>Diameter</th>\n",
       "      <th>Height</th>\n",
       "      <th>Whole weight</th>\n",
       "      <th>Shucked weight</th>\n",
       "      <th>Viscera weight</th>\n",
       "      <th>Shell weight</th>\n",
       "      <th>Rings</th>\n",
       "    </tr>\n",
       "  </thead>\n",
       "  <tbody>\n",
       "    <tr>\n",
       "      <th>1257</th>\n",
       "      <td>I</td>\n",
       "      <td>0.430</td>\n",
       "      <td>0.34</td>\n",
       "      <td>0.0</td>\n",
       "      <td>0.428</td>\n",
       "      <td>0.2065</td>\n",
       "      <td>0.0860</td>\n",
       "      <td>0.1150</td>\n",
       "      <td>8</td>\n",
       "    </tr>\n",
       "    <tr>\n",
       "      <th>3996</th>\n",
       "      <td>I</td>\n",
       "      <td>0.315</td>\n",
       "      <td>0.23</td>\n",
       "      <td>0.0</td>\n",
       "      <td>0.134</td>\n",
       "      <td>0.0575</td>\n",
       "      <td>0.0285</td>\n",
       "      <td>0.3505</td>\n",
       "      <td>6</td>\n",
       "    </tr>\n",
       "  </tbody>\n",
       "</table>\n",
       "</div>"
      ],
      "text/plain": [
       "     Sex  Length  Diameter  Height  Whole weight  Shucked weight  \\\n",
       "1257   I   0.430      0.34     0.0         0.428          0.2065   \n",
       "3996   I   0.315      0.23     0.0         0.134          0.0575   \n",
       "\n",
       "      Viscera weight  Shell weight  Rings  \n",
       "1257          0.0860        0.1150      8  \n",
       "3996          0.0285        0.3505      6  "
      ]
     },
     "execution_count": 5,
     "metadata": {},
     "output_type": "execute_result"
    }
   ],
   "source": [
    "# Checking for value 0 in 'Height' column\n",
    "data[data['Height']==0]"
   ]
  },
  {
   "cell_type": "markdown",
   "id": "e56aedd4",
   "metadata": {},
   "source": [
    "> Since there are only two samples that have 'Height' recorded as 0, we will simply drop those."
   ]
  },
  {
   "cell_type": "code",
   "execution_count": 6,
   "id": "aaec04ec",
   "metadata": {},
   "outputs": [
    {
     "data": {
      "text/plain": [
       "(4175, 9)"
      ]
     },
     "execution_count": 6,
     "metadata": {},
     "output_type": "execute_result"
    }
   ],
   "source": [
    "# Drop samples\n",
    "data.drop(index=[1257, 3996], inplace=True)\n",
    "data.shape"
   ]
  },
  {
   "cell_type": "code",
   "execution_count": 7,
   "id": "143a5477",
   "metadata": {
    "scrolled": true
   },
   "outputs": [
    {
     "data": {
      "text/plain": [
       "0"
      ]
     },
     "execution_count": 7,
     "metadata": {},
     "output_type": "execute_result"
    }
   ],
   "source": [
    "# Check for 0 values in 'Height' column one more time\n",
    "sum(data['Height']==0)"
   ]
  },
  {
   "cell_type": "markdown",
   "id": "9005971f",
   "metadata": {},
   "source": [
    "> We will now create a numeric value for the 'Sex' feature."
   ]
  },
  {
   "cell_type": "code",
   "execution_count": 8,
   "id": "7bcb1c60",
   "metadata": {
    "scrolled": false
   },
   "outputs": [
    {
     "data": {
      "text/html": [
       "<div>\n",
       "<style scoped>\n",
       "    .dataframe tbody tr th:only-of-type {\n",
       "        vertical-align: middle;\n",
       "    }\n",
       "\n",
       "    .dataframe tbody tr th {\n",
       "        vertical-align: top;\n",
       "    }\n",
       "\n",
       "    .dataframe thead th {\n",
       "        text-align: right;\n",
       "    }\n",
       "</style>\n",
       "<table border=\"1\" class=\"dataframe\">\n",
       "  <thead>\n",
       "    <tr style=\"text-align: right;\">\n",
       "      <th></th>\n",
       "      <th>Sex</th>\n",
       "      <th>Length</th>\n",
       "      <th>Diameter</th>\n",
       "      <th>Height</th>\n",
       "      <th>Whole weight</th>\n",
       "      <th>Shucked weight</th>\n",
       "      <th>Viscera weight</th>\n",
       "      <th>Shell weight</th>\n",
       "      <th>Rings</th>\n",
       "      <th>Sex_num</th>\n",
       "    </tr>\n",
       "  </thead>\n",
       "  <tbody>\n",
       "    <tr>\n",
       "      <th>0</th>\n",
       "      <td>M</td>\n",
       "      <td>0.455</td>\n",
       "      <td>0.365</td>\n",
       "      <td>0.095</td>\n",
       "      <td>0.5140</td>\n",
       "      <td>0.2245</td>\n",
       "      <td>0.1010</td>\n",
       "      <td>0.150</td>\n",
       "      <td>15</td>\n",
       "      <td>0</td>\n",
       "    </tr>\n",
       "    <tr>\n",
       "      <th>1</th>\n",
       "      <td>M</td>\n",
       "      <td>0.350</td>\n",
       "      <td>0.265</td>\n",
       "      <td>0.090</td>\n",
       "      <td>0.2255</td>\n",
       "      <td>0.0995</td>\n",
       "      <td>0.0485</td>\n",
       "      <td>0.070</td>\n",
       "      <td>7</td>\n",
       "      <td>0</td>\n",
       "    </tr>\n",
       "    <tr>\n",
       "      <th>2</th>\n",
       "      <td>F</td>\n",
       "      <td>0.530</td>\n",
       "      <td>0.420</td>\n",
       "      <td>0.135</td>\n",
       "      <td>0.6770</td>\n",
       "      <td>0.2565</td>\n",
       "      <td>0.1415</td>\n",
       "      <td>0.210</td>\n",
       "      <td>9</td>\n",
       "      <td>1</td>\n",
       "    </tr>\n",
       "    <tr>\n",
       "      <th>3</th>\n",
       "      <td>M</td>\n",
       "      <td>0.440</td>\n",
       "      <td>0.365</td>\n",
       "      <td>0.125</td>\n",
       "      <td>0.5160</td>\n",
       "      <td>0.2155</td>\n",
       "      <td>0.1140</td>\n",
       "      <td>0.155</td>\n",
       "      <td>10</td>\n",
       "      <td>0</td>\n",
       "    </tr>\n",
       "    <tr>\n",
       "      <th>4</th>\n",
       "      <td>I</td>\n",
       "      <td>0.330</td>\n",
       "      <td>0.255</td>\n",
       "      <td>0.080</td>\n",
       "      <td>0.2050</td>\n",
       "      <td>0.0895</td>\n",
       "      <td>0.0395</td>\n",
       "      <td>0.055</td>\n",
       "      <td>7</td>\n",
       "      <td>2</td>\n",
       "    </tr>\n",
       "  </tbody>\n",
       "</table>\n",
       "</div>"
      ],
      "text/plain": [
       "  Sex  Length  Diameter  Height  Whole weight  Shucked weight  Viscera weight  \\\n",
       "0   M   0.455     0.365   0.095        0.5140          0.2245          0.1010   \n",
       "1   M   0.350     0.265   0.090        0.2255          0.0995          0.0485   \n",
       "2   F   0.530     0.420   0.135        0.6770          0.2565          0.1415   \n",
       "3   M   0.440     0.365   0.125        0.5160          0.2155          0.1140   \n",
       "4   I   0.330     0.255   0.080        0.2050          0.0895          0.0395   \n",
       "\n",
       "   Shell weight  Rings  Sex_num  \n",
       "0         0.150     15        0  \n",
       "1         0.070      7        0  \n",
       "2         0.210      9        1  \n",
       "3         0.155     10        0  \n",
       "4         0.055      7        2  "
      ]
     },
     "execution_count": 8,
     "metadata": {},
     "output_type": "execute_result"
    }
   ],
   "source": [
    "# Function to create a numeric value for the 'Sex' feature \n",
    "def sex_num(x):\n",
    "    \n",
    "    \"\"\"\n",
    "    M: Male\n",
    "    F: Female\n",
    "    I: Infant\n",
    "    \"\"\"\n",
    "    if x == 'M':\n",
    "        return 0\n",
    "    elif x == 'F':\n",
    "        return 1\n",
    "    elif x == 'I':\n",
    "        return 2\n",
    "\n",
    "# Apply function and confirm\n",
    "data['Sex_num'] = data['Sex'].apply(sex_num)\n",
    "data.head()"
   ]
  },
  {
   "cell_type": "markdown",
   "id": "724d14af",
   "metadata": {},
   "source": [
    "> Next we will add a numeric feature for the age of each sample. According to a PDF from the original data source, the age of an abalone can be calculated by adding 1.5 to the number of rings. This will give you the age in years."
   ]
  },
  {
   "cell_type": "code",
   "execution_count": 9,
   "id": "83fb8a23",
   "metadata": {},
   "outputs": [
    {
     "data": {
      "text/html": [
       "<div>\n",
       "<style scoped>\n",
       "    .dataframe tbody tr th:only-of-type {\n",
       "        vertical-align: middle;\n",
       "    }\n",
       "\n",
       "    .dataframe tbody tr th {\n",
       "        vertical-align: top;\n",
       "    }\n",
       "\n",
       "    .dataframe thead th {\n",
       "        text-align: right;\n",
       "    }\n",
       "</style>\n",
       "<table border=\"1\" class=\"dataframe\">\n",
       "  <thead>\n",
       "    <tr style=\"text-align: right;\">\n",
       "      <th></th>\n",
       "      <th>Sex</th>\n",
       "      <th>Length</th>\n",
       "      <th>Diameter</th>\n",
       "      <th>Height</th>\n",
       "      <th>Whole weight</th>\n",
       "      <th>Shucked weight</th>\n",
       "      <th>Viscera weight</th>\n",
       "      <th>Shell weight</th>\n",
       "      <th>Rings</th>\n",
       "      <th>Sex_num</th>\n",
       "      <th>Age</th>\n",
       "    </tr>\n",
       "  </thead>\n",
       "  <tbody>\n",
       "    <tr>\n",
       "      <th>0</th>\n",
       "      <td>M</td>\n",
       "      <td>0.455</td>\n",
       "      <td>0.365</td>\n",
       "      <td>0.095</td>\n",
       "      <td>0.5140</td>\n",
       "      <td>0.2245</td>\n",
       "      <td>0.1010</td>\n",
       "      <td>0.150</td>\n",
       "      <td>15</td>\n",
       "      <td>0</td>\n",
       "      <td>16.5</td>\n",
       "    </tr>\n",
       "    <tr>\n",
       "      <th>1</th>\n",
       "      <td>M</td>\n",
       "      <td>0.350</td>\n",
       "      <td>0.265</td>\n",
       "      <td>0.090</td>\n",
       "      <td>0.2255</td>\n",
       "      <td>0.0995</td>\n",
       "      <td>0.0485</td>\n",
       "      <td>0.070</td>\n",
       "      <td>7</td>\n",
       "      <td>0</td>\n",
       "      <td>8.5</td>\n",
       "    </tr>\n",
       "    <tr>\n",
       "      <th>2</th>\n",
       "      <td>F</td>\n",
       "      <td>0.530</td>\n",
       "      <td>0.420</td>\n",
       "      <td>0.135</td>\n",
       "      <td>0.6770</td>\n",
       "      <td>0.2565</td>\n",
       "      <td>0.1415</td>\n",
       "      <td>0.210</td>\n",
       "      <td>9</td>\n",
       "      <td>1</td>\n",
       "      <td>10.5</td>\n",
       "    </tr>\n",
       "    <tr>\n",
       "      <th>3</th>\n",
       "      <td>M</td>\n",
       "      <td>0.440</td>\n",
       "      <td>0.365</td>\n",
       "      <td>0.125</td>\n",
       "      <td>0.5160</td>\n",
       "      <td>0.2155</td>\n",
       "      <td>0.1140</td>\n",
       "      <td>0.155</td>\n",
       "      <td>10</td>\n",
       "      <td>0</td>\n",
       "      <td>11.5</td>\n",
       "    </tr>\n",
       "    <tr>\n",
       "      <th>4</th>\n",
       "      <td>I</td>\n",
       "      <td>0.330</td>\n",
       "      <td>0.255</td>\n",
       "      <td>0.080</td>\n",
       "      <td>0.2050</td>\n",
       "      <td>0.0895</td>\n",
       "      <td>0.0395</td>\n",
       "      <td>0.055</td>\n",
       "      <td>7</td>\n",
       "      <td>2</td>\n",
       "      <td>8.5</td>\n",
       "    </tr>\n",
       "  </tbody>\n",
       "</table>\n",
       "</div>"
      ],
      "text/plain": [
       "  Sex  Length  Diameter  Height  Whole weight  Shucked weight  Viscera weight  \\\n",
       "0   M   0.455     0.365   0.095        0.5140          0.2245          0.1010   \n",
       "1   M   0.350     0.265   0.090        0.2255          0.0995          0.0485   \n",
       "2   F   0.530     0.420   0.135        0.6770          0.2565          0.1415   \n",
       "3   M   0.440     0.365   0.125        0.5160          0.2155          0.1140   \n",
       "4   I   0.330     0.255   0.080        0.2050          0.0895          0.0395   \n",
       "\n",
       "   Shell weight  Rings  Sex_num   Age  \n",
       "0         0.150     15        0  16.5  \n",
       "1         0.070      7        0   8.5  \n",
       "2         0.210      9        1  10.5  \n",
       "3         0.155     10        0  11.5  \n",
       "4         0.055      7        2   8.5  "
      ]
     },
     "execution_count": 9,
     "metadata": {},
     "output_type": "execute_result"
    }
   ],
   "source": [
    "# Function for calculating age\n",
    "def get_age(x):\n",
    "    \n",
    "    \"\"\"\n",
    "    Age (years) = #of_rings+1.5\n",
    "    \"\"\"\n",
    "    return x + 1.5\n",
    "\n",
    "# Apply function and confirm\n",
    "data['Age'] = data['Rings'].apply(get_age)\n",
    "data.head()"
   ]
  },
  {
   "cell_type": "code",
   "execution_count": 10,
   "id": "8db1c9fa",
   "metadata": {
    "scrolled": false
   },
   "outputs": [
    {
     "data": {
      "text/plain": [
       "count    4175.000000\n",
       "mean       11.435090\n",
       "std         3.224227\n",
       "min         2.500000\n",
       "25%         9.500000\n",
       "50%        10.500000\n",
       "75%        12.500000\n",
       "max        30.500000\n",
       "Name: Age, dtype: float64"
      ]
     },
     "execution_count": 10,
     "metadata": {},
     "output_type": "execute_result"
    }
   ],
   "source": [
    "# Statistics for new 'Age' feature\n",
    "data['Age'].describe()"
   ]
  },
  {
   "cell_type": "markdown",
   "id": "91e80f44",
   "metadata": {},
   "source": [
    "> Next we will create our age categories for model classification. We will create 5 classes. Since the minimum age is 2.5 we will begin counting from 2, and allow for ~6 ages per class (class 0: 2-7, class 1: 8-13, class 2: 14-19, class 3: 20-25, class 4: 26-30.5) "
   ]
  },
  {
   "cell_type": "code",
   "execution_count": 11,
   "id": "ab4f71c7",
   "metadata": {
    "scrolled": false
   },
   "outputs": [
    {
     "data": {
      "text/html": [
       "<div>\n",
       "<style scoped>\n",
       "    .dataframe tbody tr th:only-of-type {\n",
       "        vertical-align: middle;\n",
       "    }\n",
       "\n",
       "    .dataframe tbody tr th {\n",
       "        vertical-align: top;\n",
       "    }\n",
       "\n",
       "    .dataframe thead th {\n",
       "        text-align: right;\n",
       "    }\n",
       "</style>\n",
       "<table border=\"1\" class=\"dataframe\">\n",
       "  <thead>\n",
       "    <tr style=\"text-align: right;\">\n",
       "      <th></th>\n",
       "      <th>Age_class</th>\n",
       "      <th>Age</th>\n",
       "    </tr>\n",
       "  </thead>\n",
       "  <tbody>\n",
       "    <tr>\n",
       "      <th>2776</th>\n",
       "      <td>1</td>\n",
       "      <td>11.5</td>\n",
       "    </tr>\n",
       "    <tr>\n",
       "      <th>3501</th>\n",
       "      <td>2</td>\n",
       "      <td>13.5</td>\n",
       "    </tr>\n",
       "    <tr>\n",
       "      <th>2154</th>\n",
       "      <td>1</td>\n",
       "      <td>11.5</td>\n",
       "    </tr>\n",
       "    <tr>\n",
       "      <th>842</th>\n",
       "      <td>1</td>\n",
       "      <td>10.5</td>\n",
       "    </tr>\n",
       "    <tr>\n",
       "      <th>3995</th>\n",
       "      <td>0</td>\n",
       "      <td>6.5</td>\n",
       "    </tr>\n",
       "    <tr>\n",
       "      <th>4160</th>\n",
       "      <td>1</td>\n",
       "      <td>12.5</td>\n",
       "    </tr>\n",
       "    <tr>\n",
       "      <th>2506</th>\n",
       "      <td>1</td>\n",
       "      <td>8.5</td>\n",
       "    </tr>\n",
       "    <tr>\n",
       "      <th>3429</th>\n",
       "      <td>1</td>\n",
       "      <td>7.5</td>\n",
       "    </tr>\n",
       "    <tr>\n",
       "      <th>4004</th>\n",
       "      <td>1</td>\n",
       "      <td>11.5</td>\n",
       "    </tr>\n",
       "    <tr>\n",
       "      <th>1309</th>\n",
       "      <td>1</td>\n",
       "      <td>11.5</td>\n",
       "    </tr>\n",
       "  </tbody>\n",
       "</table>\n",
       "</div>"
      ],
      "text/plain": [
       "      Age_class   Age\n",
       "2776          1  11.5\n",
       "3501          2  13.5\n",
       "2154          1  11.5\n",
       "842           1  10.5\n",
       "3995          0   6.5\n",
       "4160          1  12.5\n",
       "2506          1   8.5\n",
       "3429          1   7.5\n",
       "4004          1  11.5\n",
       "1309          1  11.5"
      ]
     },
     "execution_count": 11,
     "metadata": {},
     "output_type": "execute_result"
    }
   ],
   "source": [
    "# Create 'Age_class' feature\n",
    "\n",
    "# Cut-off point for young class and mid class\n",
    "young_cut = 7\n",
    "mid_low_cut = 13\n",
    "mid_cut = 19\n",
    "mid_high_cut = 25\n",
    "\n",
    "def class_var(x):\n",
    "    \n",
    "    \"\"\" \n",
    "    0: younger \n",
    "    1: mid-low\n",
    "    2: mid\n",
    "    3: mid-high\n",
    "    4: high\n",
    "    \"\"\"\n",
    "    \n",
    "    if x <= young_cut:\n",
    "        return 0\n",
    "    elif x <= mid_low_cut:\n",
    "        return 1\n",
    "    elif x <= mid_cut:\n",
    "        return 2\n",
    "    elif x <= mid_high_cut:\n",
    "        return 3\n",
    "    else: \n",
    "        return 4\n",
    "    \n",
    "data['Age_class'] = data['Age'].apply(class_var)\n",
    "data[['Age_class', 'Age']].sample(10)"
   ]
  },
  {
   "cell_type": "code",
   "execution_count": 12,
   "id": "20885e7b",
   "metadata": {
    "scrolled": true
   },
   "outputs": [
    {
     "data": {
      "text/plain": [
       "1    3026\n",
       "2     824\n",
       "0     189\n",
       "3     129\n",
       "4       7\n",
       "Name: Age_class, dtype: int64"
      ]
     },
     "execution_count": 12,
     "metadata": {},
     "output_type": "execute_result"
    }
   ],
   "source": [
    "data['Age_class'].value_counts()"
   ]
  },
  {
   "cell_type": "code",
   "execution_count": 13,
   "id": "17db65c3",
   "metadata": {
    "scrolled": false
   },
   "outputs": [
    {
     "name": "stdout",
     "output_type": "stream",
     "text": [
      "<class 'pandas.core.frame.DataFrame'>\n",
      "Int64Index: 4175 entries, 0 to 4176\n",
      "Data columns (total 12 columns):\n",
      " #   Column          Non-Null Count  Dtype  \n",
      "---  ------          --------------  -----  \n",
      " 0   Sex             4175 non-null   object \n",
      " 1   Length          4175 non-null   float64\n",
      " 2   Diameter        4175 non-null   float64\n",
      " 3   Height          4175 non-null   float64\n",
      " 4   Whole weight    4175 non-null   float64\n",
      " 5   Shucked weight  4175 non-null   float64\n",
      " 6   Viscera weight  4175 non-null   float64\n",
      " 7   Shell weight    4175 non-null   float64\n",
      " 8   Rings           4175 non-null   int64  \n",
      " 9   Sex_num         4175 non-null   int64  \n",
      " 10  Age             4175 non-null   float64\n",
      " 11  Age_class       4175 non-null   int64  \n",
      "dtypes: float64(8), int64(3), object(1)\n",
      "memory usage: 424.0+ KB\n"
     ]
    }
   ],
   "source": [
    "# Confirm value completeness for features\n",
    "data.info()"
   ]
  },
  {
   "cell_type": "markdown",
   "id": "9f97a2a3",
   "metadata": {},
   "source": [
    "## 3. Data Visualization \n",
    "\n",
    "> First we will visualize some of the distributions for each feature. "
   ]
  },
  {
   "cell_type": "code",
   "execution_count": 14,
   "id": "fa68e330",
   "metadata": {},
   "outputs": [
    {
     "data": {
      "text/plain": [
       "[Text(0.5, 0, 'Age_class'), Text(0, 0.5, 'Number of Samples')]"
      ]
     },
     "execution_count": 14,
     "metadata": {},
     "output_type": "execute_result"
    },
    {
     "data": {
      "image/png": "[encoded data removed]",
      "text/plain": [
       "<Figure size 1440x720 with 3 Axes>"
      ]
     },
     "metadata": {
      "needs_background": "light"
     },
     "output_type": "display_data"
    }
   ],
   "source": [
    "# Histograms for Age and Sex\n",
    "fig, ax = plt.subplots(1,3, figsize=(20,10), constrained_layout=True)\n",
    "\n",
    "# Age\n",
    "ax[0].hist(data['Age'], bins=25)\n",
    "ax[0].set_title('Distribution of Age')\n",
    "ax[0].set(xlabel='Age', ylabel='Number of Samples')\n",
    "\n",
    "# Sex\n",
    "ax[1].hist(data['Sex'], bins=25)\n",
    "ax[1].set_title('Distribution of Sex')\n",
    "ax[1].set(xlabel='Sex', ylabel='Number of Samples')\n",
    "\n",
    "# Age_class\n",
    "ax[2].hist(data['Age_class'], bins=25)\n",
    "ax[2].set_title('Distribution of Age_class')\n",
    "ax[2].set(xlabel='Age_class', ylabel='Number of Samples')"
   ]
  },
  {
   "cell_type": "code",
   "execution_count": 15,
   "id": "e1ced324",
   "metadata": {
    "scrolled": true
   },
   "outputs": [
    {
     "data": {
      "text/plain": [
       "[Text(0.5, 0, 'Length'), Text(0, 0.5, 'Number of Samples')]"
      ]
     },
     "execution_count": 15,
     "metadata": {},
     "output_type": "execute_result"
    },
    {
     "data": {
      "image/png": "[encoded data removed]",
      "text/plain": [
       "<Figure size 1440x720 with 4 Axes>"
      ]
     },
     "metadata": {
      "needs_background": "light"
     },
     "output_type": "display_data"
    }
   ],
   "source": [
    "# Histograms for Whole weight, Height, Diameter, Length\n",
    "fig, ax = plt.subplots(2,2, figsize=(20,10), constrained_layout=True)\n",
    "\n",
    "# Whole weight\n",
    "ax[0,0].hist(data['Whole weight'], bins=20)\n",
    "ax[0,0].set_title('Distribution of Whole Weight')\n",
    "ax[0,0].set(xlabel='Whole Weight', ylabel='Number of Samples')\n",
    "\n",
    "#Height\n",
    "ax[0,1].hist(data['Height'], bins=20)\n",
    "ax[0,1].set_title('Distribution of Height')\n",
    "ax[0,1].set(xlabel='Height', ylabel='Number of Samples')\n",
    "\n",
    "# Diameter\n",
    "ax[1,0].hist(data['Diameter'], bins=20)\n",
    "ax[1,0].set_title('Distribution of Diameter')\n",
    "ax[1,0].set(xlabel='Diameter', ylabel='Number of Samples')\n",
    "\n",
    "# Length\n",
    "ax[1,1].hist(data['Length'], bins=20)\n",
    "ax[1,1].set_title('Distribution of Length')\n",
    "ax[1,1].set(xlabel='Length', ylabel='Number of Samples')"
   ]
  },
  {
   "cell_type": "code",
   "execution_count": 16,
   "id": "8dfd0a61",
   "metadata": {},
   "outputs": [
    {
     "data": {
      "text/plain": [
       "[Text(0.5, 0, 'Shell weight'), Text(0, 0.5, 'Number of Samples')]"
      ]
     },
     "execution_count": 16,
     "metadata": {},
     "output_type": "execute_result"
    },
    {
     "data": {
      "image/png": "[encoded data removed]",
      "text/plain": [
       "<Figure size 1440x720 with 3 Axes>"
      ]
     },
     "metadata": {
      "needs_background": "light"
     },
     "output_type": "display_data"
    }
   ],
   "source": [
    "# Histograms for Shucked weight, Viscera weight, Shell weight\n",
    "fig, ax = plt.subplots(1,3, figsize=(20,10), constrained_layout=True)\n",
    "\n",
    "# Shucked weight\n",
    "ax[0].hist(data['Shucked weight'], bins=20)\n",
    "ax[0].set_title('Distribution of Shucked Weight')\n",
    "ax[0].set(xlabel='Shucked weight', ylabel='Number of Samples')\n",
    "\n",
    "# Viscera weight\n",
    "ax[1].hist(data['Viscera weight'], bins=20)\n",
    "ax[1].set_title('Distribution of Viscera Weight')\n",
    "ax[1].set(xlabel='Viscera Weight', ylabel='Number of Samples')\n",
    "\n",
    "# Shell weight\n",
    "ax[2].hist(data['Shell weight'], bins=20)\n",
    "ax[2].set_title('Distribution of Shell Weight')\n",
    "ax[2].set(xlabel='Shell weight', ylabel='Number of Samples')"
   ]
  },
  {
   "cell_type": "markdown",
   "id": "ae55ebdc",
   "metadata": {},
   "source": [
    "> Next we will visualize some of the relationships between features"
   ]
  },
  {
   "cell_type": "code",
   "execution_count": 17,
   "id": "702cf93e",
   "metadata": {
    "scrolled": false
   },
   "outputs": [
    {
     "data": {
      "text/plain": [
       "Text(0.5, 1.0, 'Sex/Age_class')"
      ]
     },
     "execution_count": 17,
     "metadata": {},
     "output_type": "execute_result"
    },
    {
     "data": {
      "image/png": "[encoded data removed]",
      "text/plain": [
       "<Figure size 1440x288 with 4 Axes>"
      ]
     },
     "metadata": {
      "needs_background": "light"
     },
     "output_type": "display_data"
    }
   ],
   "source": [
    "# Boxplots for different features\n",
    "fig, axs = plt.subplots(ncols = 4, figsize = (20,4))\n",
    "\n",
    "sns.boxplot(x='Sex', y='Whole weight', data=data, ax=axs[0])\n",
    "axs[0].set_title('Sex/Whole weight')\n",
    "\n",
    "sns.boxplot(x='Sex', y='Age', data=data, ax=axs[1])\n",
    "axs[1].set_title('Sex/Age')\n",
    "\n",
    "sns.boxplot(x='Age_class', y='Shell weight', data=data, ax=axs[2])\n",
    "axs[2].set_title('Age_class/Shell weight')\n",
    "\n",
    "sns.boxplot(x='Sex', y='Age_class', data=data, ax=axs[3])\n",
    "axs[3].set_title('Sex/Age_class')"
   ]
  },
  {
   "cell_type": "code",
   "execution_count": 18,
   "id": "bfd59852",
   "metadata": {},
   "outputs": [
    {
     "data": {
      "text/plain": [
       "Text(0.5, 1.0, 'Age_class/Diameter')"
      ]
     },
     "execution_count": 18,
     "metadata": {},
     "output_type": "execute_result"
    },
    {
     "data": {
      "image/png": "[encoded data removed]",
      "text/plain": [
       "<Figure size 1440x288 with 4 Axes>"
      ]
     },
     "metadata": {
      "needs_background": "light"
     },
     "output_type": "display_data"
    }
   ],
   "source": [
    "# Boxplots for different features\n",
    "fig, axs = plt.subplots(ncols = 4, figsize = (20,4))\n",
    "\n",
    "sns.boxplot(x='Age_class', y='Length', data=data, ax=axs[0])\n",
    "axs[0].set_title('Age_class/Length')\n",
    "\n",
    "sns.boxplot(x='Age_class', y='Shucked weight', data=data, ax=axs[1])\n",
    "axs[1].set_title('Age_class/Shucked weight')\n",
    "\n",
    "sns.boxplot(x='Age_class', y='Viscera weight', data=data, ax=axs[2])\n",
    "axs[2].set_title('Age_class/Viscera weight')\n",
    "\n",
    "sns.boxplot(x='Age_class', y='Diameter', data=data, ax=axs[3])\n",
    "axs[3].set_title('Age_class/Diameter')"
   ]
  },
  {
   "cell_type": "code",
   "execution_count": 19,
   "id": "2ffec22d",
   "metadata": {
    "scrolled": true
   },
   "outputs": [
    {
     "data": {
      "text/html": [
       "<div>\n",
       "<style scoped>\n",
       "    .dataframe tbody tr th:only-of-type {\n",
       "        vertical-align: middle;\n",
       "    }\n",
       "\n",
       "    .dataframe tbody tr th {\n",
       "        vertical-align: top;\n",
       "    }\n",
       "\n",
       "    .dataframe thead th {\n",
       "        text-align: right;\n",
       "    }\n",
       "</style>\n",
       "<table border=\"1\" class=\"dataframe\">\n",
       "  <thead>\n",
       "    <tr style=\"text-align: right;\">\n",
       "      <th></th>\n",
       "      <th>Length</th>\n",
       "      <th>Diameter</th>\n",
       "      <th>Height</th>\n",
       "      <th>Whole weight</th>\n",
       "      <th>Shucked weight</th>\n",
       "      <th>Viscera weight</th>\n",
       "      <th>Shell weight</th>\n",
       "      <th>Rings</th>\n",
       "      <th>Sex_num</th>\n",
       "      <th>Age</th>\n",
       "      <th>Age_class</th>\n",
       "    </tr>\n",
       "  </thead>\n",
       "  <tbody>\n",
       "    <tr>\n",
       "      <th>Length</th>\n",
       "      <td>1.000000</td>\n",
       "      <td>0.986802</td>\n",
       "      <td>0.828108</td>\n",
       "      <td>0.925217</td>\n",
       "      <td>0.897859</td>\n",
       "      <td>0.902960</td>\n",
       "      <td>0.898419</td>\n",
       "      <td>0.556464</td>\n",
       "      <td>-0.448369</td>\n",
       "      <td>0.556464</td>\n",
       "      <td>0.423051</td>\n",
       "    </tr>\n",
       "    <tr>\n",
       "      <th>Diameter</th>\n",
       "      <td>0.986802</td>\n",
       "      <td>1.000000</td>\n",
       "      <td>0.834298</td>\n",
       "      <td>0.925414</td>\n",
       "      <td>0.893108</td>\n",
       "      <td>0.899672</td>\n",
       "      <td>0.906084</td>\n",
       "      <td>0.574418</td>\n",
       "      <td>-0.457873</td>\n",
       "      <td>0.574418</td>\n",
       "      <td>0.438221</td>\n",
       "    </tr>\n",
       "    <tr>\n",
       "      <th>Height</th>\n",
       "      <td>0.828108</td>\n",
       "      <td>0.834298</td>\n",
       "      <td>1.000000</td>\n",
       "      <td>0.819886</td>\n",
       "      <td>0.775621</td>\n",
       "      <td>0.798908</td>\n",
       "      <td>0.819596</td>\n",
       "      <td>0.557625</td>\n",
       "      <td>-0.417183</td>\n",
       "      <td>0.557625</td>\n",
       "      <td>0.436756</td>\n",
       "    </tr>\n",
       "    <tr>\n",
       "      <th>Whole weight</th>\n",
       "      <td>0.925217</td>\n",
       "      <td>0.925414</td>\n",
       "      <td>0.819886</td>\n",
       "      <td>1.000000</td>\n",
       "      <td>0.969389</td>\n",
       "      <td>0.966354</td>\n",
       "      <td>0.955924</td>\n",
       "      <td>0.540151</td>\n",
       "      <td>-0.460887</td>\n",
       "      <td>0.540151</td>\n",
       "      <td>0.399569</td>\n",
       "    </tr>\n",
       "    <tr>\n",
       "      <th>Shucked weight</th>\n",
       "      <td>0.897859</td>\n",
       "      <td>0.893108</td>\n",
       "      <td>0.775621</td>\n",
       "      <td>0.969389</td>\n",
       "      <td>1.000000</td>\n",
       "      <td>0.931924</td>\n",
       "      <td>0.883129</td>\n",
       "      <td>0.420597</td>\n",
       "      <td>-0.440598</td>\n",
       "      <td>0.420597</td>\n",
       "      <td>0.286659</td>\n",
       "    </tr>\n",
       "    <tr>\n",
       "      <th>Viscera weight</th>\n",
       "      <td>0.902960</td>\n",
       "      <td>0.899672</td>\n",
       "      <td>0.798908</td>\n",
       "      <td>0.966354</td>\n",
       "      <td>0.931924</td>\n",
       "      <td>1.000000</td>\n",
       "      <td>0.908186</td>\n",
       "      <td>0.503562</td>\n",
       "      <td>-0.454296</td>\n",
       "      <td>0.503562</td>\n",
       "      <td>0.362832</td>\n",
       "    </tr>\n",
       "    <tr>\n",
       "      <th>Shell weight</th>\n",
       "      <td>0.898419</td>\n",
       "      <td>0.906084</td>\n",
       "      <td>0.819596</td>\n",
       "      <td>0.955924</td>\n",
       "      <td>0.883129</td>\n",
       "      <td>0.908186</td>\n",
       "      <td>1.000000</td>\n",
       "      <td>0.627928</td>\n",
       "      <td>-0.445769</td>\n",
       "      <td>0.627928</td>\n",
       "      <td>0.488589</td>\n",
       "    </tr>\n",
       "    <tr>\n",
       "      <th>Rings</th>\n",
       "      <td>0.556464</td>\n",
       "      <td>0.574418</td>\n",
       "      <td>0.557625</td>\n",
       "      <td>0.540151</td>\n",
       "      <td>0.420597</td>\n",
       "      <td>0.503562</td>\n",
       "      <td>0.627928</td>\n",
       "      <td>1.000000</td>\n",
       "      <td>-0.351483</td>\n",
       "      <td>1.000000</td>\n",
       "      <td>0.882494</td>\n",
       "    </tr>\n",
       "    <tr>\n",
       "      <th>Sex_num</th>\n",
       "      <td>-0.448369</td>\n",
       "      <td>-0.457873</td>\n",
       "      <td>-0.417183</td>\n",
       "      <td>-0.460887</td>\n",
       "      <td>-0.440598</td>\n",
       "      <td>-0.454296</td>\n",
       "      <td>-0.445769</td>\n",
       "      <td>-0.351483</td>\n",
       "      <td>1.000000</td>\n",
       "      <td>-0.351483</td>\n",
       "      <td>-0.248537</td>\n",
       "    </tr>\n",
       "    <tr>\n",
       "      <th>Age</th>\n",
       "      <td>0.556464</td>\n",
       "      <td>0.574418</td>\n",
       "      <td>0.557625</td>\n",
       "      <td>0.540151</td>\n",
       "      <td>0.420597</td>\n",
       "      <td>0.503562</td>\n",
       "      <td>0.627928</td>\n",
       "      <td>1.000000</td>\n",
       "      <td>-0.351483</td>\n",
       "      <td>1.000000</td>\n",
       "      <td>0.882494</td>\n",
       "    </tr>\n",
       "    <tr>\n",
       "      <th>Age_class</th>\n",
       "      <td>0.423051</td>\n",
       "      <td>0.438221</td>\n",
       "      <td>0.436756</td>\n",
       "      <td>0.399569</td>\n",
       "      <td>0.286659</td>\n",
       "      <td>0.362832</td>\n",
       "      <td>0.488589</td>\n",
       "      <td>0.882494</td>\n",
       "      <td>-0.248537</td>\n",
       "      <td>0.882494</td>\n",
       "      <td>1.000000</td>\n",
       "    </tr>\n",
       "  </tbody>\n",
       "</table>\n",
       "</div>"
      ],
      "text/plain": [
       "                  Length  Diameter    Height  Whole weight  Shucked weight  \\\n",
       "Length          1.000000  0.986802  0.828108      0.925217        0.897859   \n",
       "Diameter        0.986802  1.000000  0.834298      0.925414        0.893108   \n",
       "Height          0.828108  0.834298  1.000000      0.819886        0.775621   \n",
       "Whole weight    0.925217  0.925414  0.819886      1.000000        0.969389   \n",
       "Shucked weight  0.897859  0.893108  0.775621      0.969389        1.000000   \n",
       "Viscera weight  0.902960  0.899672  0.798908      0.966354        0.931924   \n",
       "Shell weight    0.898419  0.906084  0.819596      0.955924        0.883129   \n",
       "Rings           0.556464  0.574418  0.557625      0.540151        0.420597   \n",
       "Sex_num        -0.448369 -0.457873 -0.417183     -0.460887       -0.440598   \n",
       "Age             0.556464  0.574418  0.557625      0.540151        0.420597   \n",
       "Age_class       0.423051  0.438221  0.436756      0.399569        0.286659   \n",
       "\n",
       "                Viscera weight  Shell weight     Rings   Sex_num       Age  \\\n",
       "Length                0.902960      0.898419  0.556464 -0.448369  0.556464   \n",
       "Diameter              0.899672      0.906084  0.574418 -0.457873  0.574418   \n",
       "Height                0.798908      0.819596  0.557625 -0.417183  0.557625   \n",
       "Whole weight          0.966354      0.955924  0.540151 -0.460887  0.540151   \n",
       "Shucked weight        0.931924      0.883129  0.420597 -0.440598  0.420597   \n",
       "Viscera weight        1.000000      0.908186  0.503562 -0.454296  0.503562   \n",
       "Shell weight          0.908186      1.000000  0.627928 -0.445769  0.627928   \n",
       "Rings                 0.503562      0.627928  1.000000 -0.351483  1.000000   \n",
       "Sex_num              -0.454296     -0.445769 -0.351483  1.000000 -0.351483   \n",
       "Age                   0.503562      0.627928  1.000000 -0.351483  1.000000   \n",
       "Age_class             0.362832      0.488589  0.882494 -0.248537  0.882494   \n",
       "\n",
       "                Age_class  \n",
       "Length           0.423051  \n",
       "Diameter         0.438221  \n",
       "Height           0.436756  \n",
       "Whole weight     0.399569  \n",
       "Shucked weight   0.286659  \n",
       "Viscera weight   0.362832  \n",
       "Shell weight     0.488589  \n",
       "Rings            0.882494  \n",
       "Sex_num         -0.248537  \n",
       "Age              0.882494  \n",
       "Age_class        1.000000  "
      ]
     },
     "execution_count": 19,
     "metadata": {},
     "output_type": "execute_result"
    }
   ],
   "source": [
    "# Check correlation of features\n",
    "data.corr()"
   ]
  },
  {
   "cell_type": "markdown",
   "id": "5405b86a",
   "metadata": {},
   "source": [
    "# _Models_\n",
    "\n",
    "> The primary focus of my models for this project is going to be on determining the age of the abalone. First, we will try a linear regression model to predict age. The following models will all be classification models for age classification.\n",
    "\n",
    "> \" The age of abalone is determined by cutting the shell through the cone, staining it, and counting the number of rings through a microscope -- a boring and time-consuming task\" - _Taken from \"Data Set Information\", https://archive.ics.uci.edu/ml/datasets/abalone_"
   ]
  },
  {
   "cell_type": "code",
   "execution_count": 20,
   "id": "d8346c14",
   "metadata": {},
   "outputs": [],
   "source": [
    "# Model packages\n",
    "from sklearn.linear_model import LinearRegression\n",
    "from sklearn.linear_model import LogisticRegression\n",
    "from sklearn.tree import  DecisionTreeClassifier\n",
    "from sklearn.svm import LinearSVC\n",
    "from sklearn.neighbors import  KNeighborsClassifier\n",
    "\n",
    "# Supplemental packages\n",
    "from sklearn.model_selection import train_test_split\n",
    "from sklearn.metrics import mean_squared_error, r2_score\n",
    "from sklearn.preprocessing import StandardScaler\n",
    "from sklearn.metrics import confusion_matrix\n",
    "from sklearn.metrics import plot_confusion_matrix"
   ]
  },
  {
   "cell_type": "markdown",
   "id": "41963bc3",
   "metadata": {},
   "source": [
    "## 0. Data Pre-processing\n",
    "> We will start by dropping the non-numeric 'Sex' feature and the 'Rings' feature."
   ]
  },
  {
   "cell_type": "code",
   "execution_count": 21,
   "id": "088c6cc8",
   "metadata": {
    "scrolled": true
   },
   "outputs": [
    {
     "name": "stdout",
     "output_type": "stream",
     "text": [
      "<class 'pandas.core.frame.DataFrame'>\n",
      "Int64Index: 4175 entries, 0 to 4176\n",
      "Data columns (total 10 columns):\n",
      " #   Column          Non-Null Count  Dtype  \n",
      "---  ------          --------------  -----  \n",
      " 0   Length          4175 non-null   float64\n",
      " 1   Diameter        4175 non-null   float64\n",
      " 2   Height          4175 non-null   float64\n",
      " 3   Whole weight    4175 non-null   float64\n",
      " 4   Shucked weight  4175 non-null   float64\n",
      " 5   Viscera weight  4175 non-null   float64\n",
      " 6   Shell weight    4175 non-null   float64\n",
      " 7   Sex_num         4175 non-null   int64  \n",
      " 8   Age             4175 non-null   float64\n",
      " 9   Age_class       4175 non-null   int64  \n",
      "dtypes: float64(8), int64(2)\n",
      "memory usage: 358.8 KB\n"
     ]
    }
   ],
   "source": [
    "data = data.drop(['Sex', 'Rings'], axis=1)\n",
    "data.info()"
   ]
  },
  {
   "cell_type": "markdown",
   "id": "79e24482",
   "metadata": {},
   "source": [
    "> We will now check for skewness and handle that before setting our model variables."
   ]
  },
  {
   "cell_type": "code",
   "execution_count": 22,
   "id": "accae25b",
   "metadata": {
    "scrolled": false
   },
   "outputs": [
    {
     "data": {
      "text/plain": [
       "Height            3.166364\n",
       "Age_class         1.117801\n",
       "Age               1.113754\n",
       "Shucked weight    0.718735\n",
       "Shell weight      0.621081\n",
       "Viscera weight    0.591455\n",
       "Whole weight      0.530549\n",
       "Sex_num           0.083982\n",
       "Diameter         -0.610182\n",
       "Length           -0.640993\n",
       "dtype: float64"
      ]
     },
     "execution_count": 22,
     "metadata": {},
     "output_type": "execute_result"
    }
   ],
   "source": [
    "# Check for skewness\n",
    "data.skew().sort_values(ascending = False)"
   ]
  },
  {
   "cell_type": "code",
   "execution_count": 23,
   "id": "ad5a73fc",
   "metadata": {},
   "outputs": [
    {
     "data": {
      "text/plain": [
       "Age_class         1.117801\n",
       "Age               1.113754\n",
       "Sex_num           0.083982\n",
       "Shucked weight   -0.142020\n",
       "Height           -0.176012\n",
       "Viscera weight   -0.184008\n",
       "Shell weight     -0.222827\n",
       "Whole weight     -0.237333\n",
       "Diameter         -0.610182\n",
       "Length           -0.640993\n",
       "dtype: float64"
      ]
     },
     "execution_count": 23,
     "metadata": {},
     "output_type": "execute_result"
    }
   ],
   "source": [
    "# List of skewed features keys\n",
    "skewed = ['Height', 'Shucked weight', 'Shell weight', 'Viscera weight', 'Whole weight']\n",
    "\n",
    "# Take square root\n",
    "for i in range(len(skewed)):\n",
    "    name = skewed[i]\n",
    "    data[name] = np.sqrt(data[name])\n",
    "\n",
    "# View\n",
    "data.skew().sort_values(ascending = False)"
   ]
  },
  {
   "cell_type": "code",
   "execution_count": 24,
   "id": "aab766ca",
   "metadata": {},
   "outputs": [
    {
     "data": {
      "image/png": "[encoded data removed]",
      "text/plain": [
       "<Figure size 1080x1080 with 10 Axes>"
      ]
     },
     "metadata": {
      "needs_background": "light"
     },
     "output_type": "display_data"
    }
   ],
   "source": [
    "# Final visualization\n",
    "data.hist(bins=25, figsize=(15,15), layout=(-1, 5), edgecolor=\"black\")\n",
    "plt.tight_layout();"
   ]
  },
  {
   "cell_type": "markdown",
   "id": "d161d58e",
   "metadata": {},
   "source": [
    "> We will now create the testing and training variables for the regression and classification models."
   ]
  },
  {
   "cell_type": "code",
   "execution_count": 25,
   "id": "9adb4273",
   "metadata": {},
   "outputs": [
    {
     "name": "stdout",
     "output_type": "stream",
     "text": [
      "X_lin shape: (4175, 8)\n",
      "y_lin shape: (4175,)\n"
     ]
    }
   ],
   "source": [
    "# Data for multiple-linear regression model\n",
    "# Set explanatory (X) and dependent (y) variables\n",
    "X_lin = data.drop(['Age', 'Age_class'], axis=1)\n",
    "y_lin = data['Age']\n",
    "\n",
    "print(f'X_lin shape: {X_lin.shape}')\n",
    "print(f'y_lin shape: {y_lin.shape}')\n",
    "\n",
    "X_lin_train, X_lin_test, y_lin_train, y_lin_test = train_test_split(X_lin, y_lin, test_size=0.5, random_state=0)\n",
    "\n",
    "# Standardize X data\n",
    "st_sc = StandardScaler()\n",
    "X_lin_train = st_sc.fit_transform(X_lin_train)\n",
    "X_lin_test = st_sc.transform(X_lin_test)"
   ]
  },
  {
   "cell_type": "code",
   "execution_count": 26,
   "id": "524565dd",
   "metadata": {},
   "outputs": [
    {
     "name": "stdout",
     "output_type": "stream",
     "text": [
      "X shape: (4175, 8)\n",
      "y shape: (4175,)\n"
     ]
    }
   ],
   "source": [
    "# Data for Classification models\n",
    "# Set explanatory (X) and dependent (y) variables\n",
    "X = data.drop(['Age_class', 'Age'], axis=1)\n",
    "y = data['Age_class']\n",
    "\n",
    "print(f'X shape: {X.shape}')\n",
    "print(f'y shape: {y.shape}')\n",
    "\n",
    "# Split dataset for training and testing\n",
    "X_train, X_test, y_train, y_test = train_test_split(X, y, test_size = 0.2, random_state=0)\n",
    "\n",
    "# Standardize X data\n",
    "st_sc = StandardScaler()\n",
    "X_train = st_sc.fit_transform(X_train)\n",
    "X_test = st_sc.transform(X_test)"
   ]
  },
  {
   "cell_type": "markdown",
   "id": "3b37e8d7",
   "metadata": {},
   "source": [
    "## 1. Multiple-linear Regression"
   ]
  },
  {
   "cell_type": "code",
   "execution_count": 27,
   "id": "06d095b9",
   "metadata": {},
   "outputs": [
    {
     "name": "stdout",
     "output_type": "stream",
     "text": [
      "Training Score: 0.573\n",
      "Test Score: 0.539\n",
      "Intercept: 11.457\n",
      "Mean Squared Error: 4.512\n",
      "Regression Score: 0.539\n"
     ]
    }
   ],
   "source": [
    "# Define model\n",
    "model_mlr = LinearRegression()\n",
    "model_mlr.fit(X_lin_train, y_lin_train)\n",
    "\n",
    "# Results\n",
    "train_score = model_mlr.score(X_lin_train, y_lin_train)\n",
    "test_score = model_mlr.score(X_lin_test, y_lin_test)\n",
    "intercept = model_mlr.intercept_\n",
    "predict = model_mlr.predict(X_lin_test)\n",
    "mse = mean_squared_error(predict, y_lin_test)\n",
    "\n",
    "# Results\n",
    "print(f'Training Score: {train_score:.3f}')\n",
    "print(f'Test Score: {test_score:.3f}')\n",
    "print(f'Intercept: {intercept:.3f}')\n",
    "print(f'Mean Squared Error: {mse:.3f}')\n",
    "print(f'Regression Score: {r2_score(y_lin_test, predict):.3f}')"
   ]
  },
  {
   "cell_type": "markdown",
   "id": "0e29ad87",
   "metadata": {},
   "source": [
    "## 2. Logistic Regression"
   ]
  },
  {
   "cell_type": "code",
   "execution_count": 28,
   "id": "c26e0b1a",
   "metadata": {
    "scrolled": true
   },
   "outputs": [
    {
     "name": "stdout",
     "output_type": "stream",
     "text": [
      "Training Score: 0.784\n",
      "Testing Score: 0.793\n"
     ]
    },
    {
     "name": "stderr",
     "output_type": "stream",
     "text": [
      "/Users/sonic_tertul/opt/anaconda3/envs/bigdata/lib/python3.9/site-packages/sklearn/linear_model/_logistic.py:814: ConvergenceWarning: lbfgs failed to converge (status=1):\n",
      "STOP: TOTAL NO. of ITERATIONS REACHED LIMIT.\n",
      "\n",
      "Increase the number of iterations (max_iter) or scale the data as shown in:\n",
      "    https://scikit-learn.org/stable/modules/preprocessing.html\n",
      "Please also refer to the documentation for alternative solver options:\n",
      "    https://scikit-learn.org/stable/modules/linear_model.html#logistic-regression\n",
      "  n_iter_i = _check_optimize_result(\n",
      "/Users/sonic_tertul/opt/anaconda3/envs/bigdata/lib/python3.9/site-packages/sklearn/utils/deprecation.py:87: FutureWarning: Function plot_confusion_matrix is deprecated; Function `plot_confusion_matrix` is deprecated in 1.0 and will be removed in 1.2. Use one of the class methods: ConfusionMatrixDisplay.from_predictions or ConfusionMatrixDisplay.from_estimator.\n",
      "  warnings.warn(msg, category=FutureWarning)\n"
     ]
    },
    {
     "data": {
      "image/png": "[encoded data removed]",
      "text/plain": [
       "<Figure size 432x288 with 2 Axes>"
      ]
     },
     "metadata": {
      "needs_background": "light"
     },
     "output_type": "display_data"
    }
   ],
   "source": [
    "# Define model\n",
    "model_lr = LogisticRegression()\n",
    "model_lr.fit(X_train, y_train)\n",
    "\n",
    "# Results\n",
    "train_score = model_lr.score(X_train, y_train)\n",
    "test_score = model_lr.score(X_test, y_test)\n",
    "\n",
    "print(f'Training Score: {train_score:.3f}')\n",
    "print(f'Testing Score: {test_score:.3f}')\n",
    "\n",
    "# Confusion matrix\n",
    "plot_confusion_matrix(model_lr, X_test, y_test, cmap='Blues')  \n",
    "plt.show()"
   ]
  },
  {
   "cell_type": "markdown",
   "id": "51bcba18",
   "metadata": {},
   "source": [
    "## 3. Decision Tree"
   ]
  },
  {
   "cell_type": "code",
   "execution_count": 29,
   "id": "7a3ef856",
   "metadata": {},
   "outputs": [
    {
     "data": {
      "text/plain": [
       "<matplotlib.legend.Legend at 0x7feea1030e20>"
      ]
     },
     "execution_count": 29,
     "metadata": {},
     "output_type": "execute_result"
    },
    {
     "data": {
      "image/png": "[encoded data removed]",
      "text/plain": [
       "<Figure size 432x288 with 1 Axes>"
      ]
     },
     "metadata": {
      "needs_background": "light"
     },
     "output_type": "display_data"
    }
   ],
   "source": [
    "# Variables for tracking training(tr) and testing(ts) accuracy\n",
    "tr_acc = []\n",
    "ts_acc = []\n",
    "\n",
    "# Loop to find best depth\n",
    "for i in range(1,10):\n",
    "    model_dt = DecisionTreeClassifier(criterion='entropy', max_depth=i, random_state=0)\n",
    "    model_dt.fit(X_train, y_train)\n",
    "    tr_acc.append(model_dt.score(X_train, y_train))\n",
    "    ts_acc.append(model_dt.score(X_test, y_test))\n",
    "    \n",
    "# Plot results\n",
    "plt.plot(range(1,10), tr_acc, label='Train')\n",
    "plt.plot(range(1,10), ts_acc, label='Test')\n",
    "plt.xlabel('Depth')\n",
    "plt.ylabel('Accuracy')\n",
    "plt.title('Decision Tree Experiment Results')\n",
    "plt.legend()"
   ]
  },
  {
   "cell_type": "code",
   "execution_count": 30,
   "id": "9e0287f4",
   "metadata": {
    "scrolled": true
   },
   "outputs": [
    {
     "name": "stdout",
     "output_type": "stream",
     "text": [
      "Training Score: 0.781\n",
      "Testing Score: 0.783\n"
     ]
    },
    {
     "name": "stderr",
     "output_type": "stream",
     "text": [
      "/Users/sonic_tertul/opt/anaconda3/envs/bigdata/lib/python3.9/site-packages/sklearn/utils/deprecation.py:87: FutureWarning: Function plot_confusion_matrix is deprecated; Function `plot_confusion_matrix` is deprecated in 1.0 and will be removed in 1.2. Use one of the class methods: ConfusionMatrixDisplay.from_predictions or ConfusionMatrixDisplay.from_estimator.\n",
      "  warnings.warn(msg, category=FutureWarning)\n"
     ]
    },
    {
     "data": {
      "image/png": "[encoded data removed]",
      "text/plain": [
       "<Figure size 432x288 with 2 Axes>"
      ]
     },
     "metadata": {
      "needs_background": "light"
     },
     "output_type": "display_data"
    }
   ],
   "source": [
    "# Define model\n",
    "model_dt = DecisionTreeClassifier(criterion='entropy', max_depth=5, random_state=0)\n",
    "model_dt.fit(X_train, y_train)\n",
    "\n",
    "# Results\n",
    "print(f'Training Score: {model_dt.score(X_train, y_train):.3f}')\n",
    "print(f'Testing Score: {model_dt.score(X_test, y_test):.3f}')\n",
    "\n",
    "# Confusion matrix\n",
    "plot_confusion_matrix(model_dt, X_test, y_test, cmap='Blues')  \n",
    "plt.show()"
   ]
  },
  {
   "cell_type": "markdown",
   "id": "dd27691c",
   "metadata": {},
   "source": [
    "## 4. Support Vector Machine"
   ]
  },
  {
   "cell_type": "code",
   "execution_count": 31,
   "id": "0eba8be0",
   "metadata": {
    "scrolled": true
   },
   "outputs": [
    {
     "name": "stderr",
     "output_type": "stream",
     "text": [
      "/Users/sonic_tertul/opt/anaconda3/envs/bigdata/lib/python3.9/site-packages/sklearn/svm/_base.py:1206: ConvergenceWarning: Liblinear failed to converge, increase the number of iterations.\n",
      "  warnings.warn(\n",
      "/Users/sonic_tertul/opt/anaconda3/envs/bigdata/lib/python3.9/site-packages/sklearn/utils/deprecation.py:87: FutureWarning: Function plot_confusion_matrix is deprecated; Function `plot_confusion_matrix` is deprecated in 1.0 and will be removed in 1.2. Use one of the class methods: ConfusionMatrixDisplay.from_predictions or ConfusionMatrixDisplay.from_estimator.\n",
      "  warnings.warn(msg, category=FutureWarning)\n"
     ]
    },
    {
     "name": "stdout",
     "output_type": "stream",
     "text": [
      "Training Score: 0.774\n",
      "Testing Score: 0.778\n"
     ]
    },
    {
     "data": {
      "image/png": "[encoded data removed]",
      "text/plain": [
       "<Figure size 432x288 with 2 Axes>"
      ]
     },
     "metadata": {
      "needs_background": "light"
     },
     "output_type": "display_data"
    }
   ],
   "source": [
    "# Define model\n",
    "model_svm = LinearSVC()\n",
    "model_svm.fit(X_train, y_train)\n",
    "\n",
    "# Results\n",
    "print(f'Training Score: {model_svm.score(X_train, y_train):.3f}')\n",
    "print(f'Testing Score: {model_svm.score(X_test, y_test):.3f}')\n",
    "\n",
    "# Confusion matrix\n",
    "plot_confusion_matrix(model_svm, X_test, y_test, cmap='Blues')  \n",
    "plt.show()"
   ]
  },
  {
   "cell_type": "markdown",
   "id": "da3a7820",
   "metadata": {},
   "source": [
    "## 5. K-Nearest Neighbors"
   ]
  },
  {
   "cell_type": "code",
   "execution_count": 32,
   "id": "43b0789c",
   "metadata": {},
   "outputs": [
    {
     "data": {
      "text/plain": [
       "<matplotlib.legend.Legend at 0x7fee84fcf910>"
      ]
     },
     "execution_count": 32,
     "metadata": {},
     "output_type": "execute_result"
    },
    {
     "data": {
      "image/png": "[encoded data removed]",
      "text/plain": [
       "<Figure size 432x288 with 1 Axes>"
      ]
     },
     "metadata": {
      "needs_background": "light"
     },
     "output_type": "display_data"
    }
   ],
   "source": [
    "# Variables for tracking training(tr) and testing(ts) accuracy\n",
    "tr_acc = []\n",
    "ts_acc = []\n",
    "\n",
    "# Loop to find best k number\n",
    "for i in range(1,50):\n",
    "    model_knn = KNeighborsClassifier(n_neighbors=i)\n",
    "    model_knn.fit(X_train, y_train)\n",
    "    tr_acc.append(model_knn.score(X_train, y_train))\n",
    "    ts_acc.append(model_knn.score(X_test, y_test))\n",
    "    \n",
    "# Plot results\n",
    "plt.plot(range(1,50), tr_acc, label='Train')\n",
    "plt.plot(range(1,50), ts_acc, label='Test')\n",
    "plt.xlabel('Number of Neighbors')\n",
    "plt.ylabel('Accuracy')\n",
    "plt.title('KNN Experiment Results')\n",
    "plt.legend()"
   ]
  },
  {
   "cell_type": "code",
   "execution_count": 33,
   "id": "e0111548",
   "metadata": {
    "scrolled": false
   },
   "outputs": [
    {
     "name": "stdout",
     "output_type": "stream",
     "text": [
      "Training Score: 0.790\n",
      "Testing Score: 0.796\n"
     ]
    },
    {
     "name": "stderr",
     "output_type": "stream",
     "text": [
      "/Users/sonic_tertul/opt/anaconda3/envs/bigdata/lib/python3.9/site-packages/sklearn/utils/deprecation.py:87: FutureWarning: Function plot_confusion_matrix is deprecated; Function `plot_confusion_matrix` is deprecated in 1.0 and will be removed in 1.2. Use one of the class methods: ConfusionMatrixDisplay.from_predictions or ConfusionMatrixDisplay.from_estimator.\n",
      "  warnings.warn(msg, category=FutureWarning)\n"
     ]
    },
    {
     "data": {
      "image/png": "[encoded data removed]",
      "text/plain": [
       "<Figure size 432x288 with 2 Axes>"
      ]
     },
     "metadata": {
      "needs_background": "light"
     },
     "output_type": "display_data"
    }
   ],
   "source": [
    "# Define model\n",
    "model_knn = KNeighborsClassifier(n_neighbors=10)\n",
    "model_knn.fit(X_train, y_train)\n",
    "\n",
    "# Results\n",
    "print(f'Training Score: {model_knn.score(X_train, y_train):.3f}')\n",
    "print(f'Testing Score: {model_knn.score(X_test, y_test):.3f}')\n",
    "\n",
    "# Confusion matrix\n",
    "plot_confusion_matrix(model_knn, X_test, y_test, cmap='Blues')  \n",
    "plt.show()"
   ]
  },
  {
   "cell_type": "markdown",
   "id": "18470e3f",
   "metadata": {},
   "source": [
    "# _Conclusion_\n",
    "\n",
    "> Of the five models tested, age prediction with multiple linear regression had the weakest performance, with a regression score of  about 54%. The classifiers were able to score better (~ 77 - 79%), however, there are some key takeaways from these experiments: \n",
    ">> 1. Due to a high concentration of ages in the range 9-13, the choice of age categories is very important. In this experiment we used a fairly symmetrical approach to creating age cut-offs, which led to class 1 containing significantly more samples. I tried few other methods prior to settling on this approach, such as using only 3 categories (low, mid, high) and using a non-symmetrical approach to age cut-offs to further split the 9-13 range.\n",
    "\n",
    ">> 2. Based on some of our data visualizations, there appears to be some potential outliers. Further experimentation with dealing with those could lead to better classification. \n",
    "\n",
    ">> 3. Adjusting the train/test split ratio does have a noticeable effect on the classification accuracy (less so on regression), with a 80/20 and 70/30 split both seeing an increase in overall accuracy from a 50/50 split. However, the classification of classes 3, 4 is still not corrected. "
   ]
  }
 ],
 "metadata": {
  "kernelspec": {
   "display_name": "Python 3 (ipykernel)",
   "language": "python",
   "name": "python3"
  },
  "language_info": {
   "codemirror_mode": {
    "name": "ipython",
    "version": 3
   },
   "file_extension": ".py",
   "mimetype": "text/x-python",
   "name": "python",
   "nbconvert_exporter": "python",
   "pygments_lexer": "ipython3",
   "version": "3.9.12"
  }
 },
 "nbformat": 4,
 "nbformat_minor": 5
}
